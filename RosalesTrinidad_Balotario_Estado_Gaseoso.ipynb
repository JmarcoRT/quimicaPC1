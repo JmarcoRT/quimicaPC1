{
  "nbformat": 4,
  "nbformat_minor": 0,
  "metadata": {
    "colab": {
      "provenance": [],
      "authorship_tag": "ABX9TyOO+J1ckQ6nJZ02bIvU3/Z6",
      "include_colab_link": true
    },
    "kernelspec": {
      "name": "python3",
      "display_name": "Python 3"
    },
    "language_info": {
      "name": "python"
    }
  },
  "cells": [
    {
      "cell_type": "markdown",
      "metadata": {
        "id": "view-in-github",
        "colab_type": "text"
      },
      "source": [
        "<a href=\"https://colab.research.google.com/github/JmarcoRT/quimicaPC1/blob/main/RosalesTrinidad_Balotario_Estado_Gaseoso.ipynb\" target=\"_parent\"><img src=\"https://colab.research.google.com/assets/colab-badge.svg\" alt=\"Open In Colab\"/></a>"
      ]
    },
    {
      "cell_type": "markdown",
      "source": [
        "1.2. En condiciones estándar, ¿cuántos moles de gas hay en 5 litros de oxígeno (O2)?"
      ],
      "metadata": {
        "id": "UB_NyzTiTLND"
      }
    },
    {
      "cell_type": "code",
      "source": [
        "volumen_estandar = 22.4\n",
        "volumen_oxigeno = 5.0\n",
        "moles_oxigeno = volumen_oxigeno / volumen_estandar\n",
        "print(\"Moles de oxígeno en 5 litros en condiciones estándar:\", moles_oxigeno)\n",
        "\n"
      ],
      "metadata": {
        "id": "7wsphh1UTQmW"
      },
      "execution_count": null,
      "outputs": []
    },
    {
      "cell_type": "markdown",
      "source": [
        "1.4. El nitrógeno líquido se encuentra a -196°C. ¿Cuál es esta temperatura en Kelvin?"
      ],
      "metadata": {
        "id": "qKR39NiST_qQ"
      }
    },
    {
      "cell_type": "code",
      "source": [
        "temperatura_celsius = -196\n",
        "temperatura_kelvin = temperatura_celsius + 273.15\n",
        "print(\"Temperatura en Kelvin:\", temperatura_kelvin)\n"
      ],
      "metadata": {
        "id": "Qv6cZ_4IUGAu"
      },
      "execution_count": null,
      "outputs": []
    },
    {
      "cell_type": "markdown",
      "source": [
        "2.1. ¿Cuál es la principal característica que distingue a los gases de los líquidos y sólidos?"
      ],
      "metadata": {
        "id": "aPLG4lfVUPSR"
      }
    },
    {
      "cell_type": "markdown",
      "source": [
        "La principal característica distintiva de los gases es que las partículas están altamente separadas y en constante movimiento caótico, llenando completamente cualquier recipiente que los contenga. Esto les confiere una forma y volumen variables, y una densidad mucho menor que la de los líquidos y sólidos."
      ],
      "metadata": {
        "id": "xkAQwd93UkeU"
      }
    },
    {
      "cell_type": "markdown",
      "source": [
        "2.5. ¿Por qué los gases no tienen una forma o un volumen definidos?"
      ],
      "metadata": {
        "id": "VnR7T5LGUn9v"
      }
    },
    {
      "cell_type": "markdown",
      "source": [
        "Los gases no tienen una forma o volumen definidos debido a que las partículas que los componen se encuentran altamente dispersas y en constante movimiento, colisionando entre sí y contra las paredes del contenedor que los aloja.\n"
      ],
      "metadata": {
        "id": "_NHl_H8OUvP3"
      }
    },
    {
      "cell_type": "markdown",
      "source": [
        "3.1. Calcula la presión ejercida por 0.5 moles de gas en un recipiente de 10 litros a 25°C."
      ],
      "metadata": {
        "id": "lqB5UdKqU4nS"
      }
    },
    {
      "cell_type": "code",
      "source": [
        "n = 0.5\n",
        "V = 10.0\n",
        "R = 0.0821\n",
        "T_Celsius = 25.0\n",
        "\n",
        "T_kelvin = T_Celsius + 273.15\n",
        "P = (n * R * T_kelvin) / V\n",
        "\n",
        "print(\"La presión del gas es:\", P, \"atm\")"
      ],
      "metadata": {
        "id": "j3ZJYGJWVBah"
      },
      "execution_count": null,
      "outputs": []
    },
    {
      "cell_type": "markdown",
      "source": [
        "3.4. Si un gas ocupa 500 ml a una presión de 750 mmHg, ¿cuál es su volumen a 1 atmósfera?"
      ],
      "metadata": {
        "id": "f_ZOZFaZVKcD"
      }
    },
    {
      "cell_type": "code",
      "source": [
        "P1 = 750.0\n",
        "V1 = 500.0\n",
        "P2 = 1.0\n",
        "\n",
        "V1_litros = V1 / 1000.0\n",
        "\n",
        "V2_litros = (P1 * V1_litros) / P2\n",
        "\n",
        "V2_ml = V2_litros * 1000.0\n",
        "\n",
        "print(\"El volumen a 1 atmósfera es:\", V2_ml, \"ml\")"
      ],
      "metadata": {
        "id": "ZrseZeFfVRvn"
      },
      "execution_count": null,
      "outputs": []
    },
    {
      "cell_type": "markdown",
      "source": [
        "4.3. ¿Por qué la temperatura se relaciona con la velocidad promedio de las partículas en un gas\n",
        "ideal?"
      ],
      "metadata": {
        "id": "OygfCiZbVfu8"
      }
    },
    {
      "cell_type": "markdown",
      "source": [
        "La temperatura se relaciona con la velocidad promedio de las partículas en un gas ideal a través de la teoría cinética, donde la energía cinética promedio está directamente ligada a la temperatura. A temperaturas más altas, las partículas tienen una mayor energía cinética y, por lo tanto, una velocidad promedio más alta, mientras que a temperaturas más bajas, la energía cinética y la velocidad promedio disminuyen."
      ],
      "metadata": {
        "id": "oyVqedinVlGn"
      }
    },
    {
      "cell_type": "markdown",
      "source": [
        "4.4. ¿Cómo cambia la presión de un gas ideal si se aumenta la velocidad promedio de sus\n",
        "partículas manteniendo constantes otros factores?"
      ],
      "metadata": {
        "id": "5XRAfuhhVwe7"
      }
    },
    {
      "cell_type": "markdown",
      "source": [
        "Aumentar la velocidad promedio de las partículas en un gas ideal, manteniendo constantes otros factores como la densidad y el volumen, resulta en un incremento proporcional en la presión del gas. La presión está directamente relacionada con el cuadrado de la velocidad promedio de las partículas, según la teoría cinética de los gases, lo que significa que un aumento en la velocidad promedio conlleva un aumento correspondiente en la presión."
      ],
      "metadata": {
        "id": "H4K3ZvezV6us"
      }
    },
    {
      "cell_type": "markdown",
      "source": [
        "5.3. ¿Cuál es el volumen molar de un gas ideal a 1 atmósfera de presión y 0°C?"
      ],
      "metadata": {
        "id": "rCZv6f6fWAv_"
      }
    },
    {
      "cell_type": "code",
      "source": [
        "R = 0.0821\n",
        "T = 273.15\n",
        "P = 1.0\n",
        "\n",
        "Vm = R * T / P\n",
        "\n",
        "print(\"El volumen molar del gas ideal a 1 atmósfera y 0°C es:\", Vm, \"L/mol\")"
      ],
      "metadata": {
        "id": "6GVj3gq7WGbX"
      },
      "execution_count": null,
      "outputs": []
    },
    {
      "cell_type": "markdown",
      "source": [
        "5.4. Un gas ocupa un volumen de 2 litros a 4 atmósferas y 400 K. ¿Cuántos moles de gas hay?"
      ],
      "metadata": {
        "id": "aCwWvaj9WQxV"
      }
    },
    {
      "cell_type": "code",
      "source": [
        "R = 0.0821\n",
        "V = 2.0\n",
        "P = 4.0\n",
        "T = 400.0\n",
        "\n",
        "n = (P * V) / (R * T)\n",
        "\n",
        "print(\"El número de moles de gas es:\", n, \"moles\")"
      ],
      "metadata": {
        "id": "xwdk-vQ3WTMc"
      },
      "execution_count": null,
      "outputs": []
    },
    {
      "cell_type": "markdown",
      "source": [
        "6.2. Un globo se llena con 3 moles de gas a 25 °C. Si la temperatura se incrementa a 75 °C, ¿cuál\n",
        "será el nuevo volumen del globo?"
      ],
      "metadata": {
        "id": "lKe8cZPkWakE"
      }
    },
    {
      "cell_type": "code",
      "source": [
        "n = 3.0  # moles\n",
        "\n",
        "T1_Celsius = 25.0\n",
        "T1_kelvin = T1_Celsius + 273.15\n",
        "\n",
        "T2_Celsius = 75.0\n",
        "T2_kelvin = T2_Celsius + 273.15\n",
        "\n",
        "V1 = (n * R * T1_kelvin) / P  # Calculé usando P1V1 = nRT1\n",
        "V2 = (n * R * T2_kelvin) / P\n",
        "\n",
        "print(\"El nuevo volumen del globo será:\", V2, \"litros\")"
      ],
      "metadata": {
        "id": "m61SVPZ3Wf3u"
      },
      "execution_count": null,
      "outputs": []
    },
    {
      "cell_type": "markdown",
      "source": [
        "6.3. Si un recipiente de 4 litros contiene 3 moles de un gas a 400 K, ¿cuál será la presión si el\n",
        "volumen se reduce a 2 litros a temperatura constante?"
      ],
      "metadata": {
        "id": "wwhOMrEOW9im"
      }
    },
    {
      "cell_type": "code",
      "source": [
        "V1 = 4.0\n",
        "V2 = 2.0\n",
        "n = 3.0\n",
        "T = 400.0  # K\n",
        "\n",
        "P1 = (n * R * T) / V1  # Calculé usando P1V1 = nRT\n",
        "P2 = P1 * (V1 / V2)\n",
        "\n",
        "print(\"La presión final será:\", P2, \"atm\")"
      ],
      "metadata": {
        "id": "CwzkVJM8W-S-"
      },
      "execution_count": null,
      "outputs": []
    },
    {
      "cell_type": "markdown",
      "source": [
        "7.2. Si un gas ocupa un volumen de 2 litros a 0 °C, ¿cuál será el volumen a 100 °C si la presión se\n",
        "mantiene constante?"
      ],
      "metadata": {
        "id": "306_FDzCXIbi"
      }
    },
    {
      "cell_type": "code",
      "source": [
        "V1 = 2.0\n",
        "\n",
        "T1_Celsius = 0.0\n",
        "T1_kelvin = T1_Celsius + 273.15\n",
        "\n",
        "\n",
        "T2_Celsius = 100.0\n",
        "T2_kelvin = T2_Celsius + 273.15\n",
        "\n",
        "V2 = V1 * (T2_kelvin / T1_kelvin)\n",
        "\n",
        "print(\"El volumen a 100 °C será:\", V2, \"litros\")"
      ],
      "metadata": {
        "id": "Ki_Pg_FcXL3Z"
      },
      "execution_count": null,
      "outputs": []
    },
    {
      "cell_type": "markdown",
      "source": [
        "7.3. Si un gas se expande desde 4 litros a 27 °C hasta 8 litros, ¿cuál es la nueva temperatura si la\n",
        "presión permanece constante?"
      ],
      "metadata": {
        "id": "2QevglkyXTph"
      }
    },
    {
      "cell_type": "code",
      "source": [
        "V1 = 4.0\n",
        "\n",
        "T1_Celsius = 27.0\n",
        "T1_kelvin = T1_Celsius + 273.15\n",
        "\n",
        "V2 = 8.0\n",
        "\n",
        "T2_kelvin = T1_kelvin * (V2 / V1)\n",
        "T2_Celsius = T2_kelvin - 273.15\n",
        "\n",
        "print(\"La nueva temperatura será:\", T2_Celsius, \"°C\")"
      ],
      "metadata": {
        "id": "vNlP0ncyXVqh"
      },
      "execution_count": null,
      "outputs": []
    },
    {
      "cell_type": "markdown",
      "source": [
        "8.2. Si un gas a 2 atmósferas de presión ocupa un volumen de 10 litros, ¿cuál sería el nuevo\n",
        "volumen si la presión se duplica?\n"
      ],
      "metadata": {
        "id": "s_cwYdosXkDo"
      }
    },
    {
      "cell_type": "code",
      "source": [
        "P1 = 2.0  # atmósferas\n",
        "V1 = 10.0  # litros\n",
        "P2 = 2 * P1\n",
        "\n",
        "V2 = (P1 * V1) / P2\n",
        "\n",
        "print(\"El nuevo volumen cuando la presión se duplica será:\", V2, \"litros\")"
      ],
      "metadata": {
        "id": "JqQqel5PXl98"
      },
      "execution_count": null,
      "outputs": []
    },
    {
      "cell_type": "markdown",
      "source": [
        "8.3. Un gas ocupa 5 litros a 4 atmósferas de presión. Si se expande a 15 litros, ¿cuál será la nueva\n",
        "presión a temperatura constante?"
      ],
      "metadata": {
        "id": "wL6pGdrIXomX"
      }
    },
    {
      "cell_type": "code",
      "source": [
        "P1 = 4.0\n",
        "\n",
        "V1 = 5.0\n",
        "V2 = 15.0\n",
        "\n",
        "P2 = (P1 * V1) / V2 #  ley de Boyle-Mariotte\n",
        "\n",
        "print(\"La nueva presión cuando el volumen se expande a 15 litros será:\", P2, \"atm\")"
      ],
      "metadata": {
        "id": "tKvPUyW5XpHp"
      },
      "execution_count": null,
      "outputs": []
    },
    {
      "cell_type": "markdown",
      "source": [
        "9.1. Un recipiente contiene oxígeno (O2) y nitrógeno (N2) a una presión total de 3 atmósferas. Si\n",
        "la presión parcial de O2 es de 1 atmósfera, ¿cuál es la presión parcial de N2?"
      ],
      "metadata": {
        "id": "Q7W_Ss4lX8rx"
      }
    },
    {
      "cell_type": "code",
      "source": [
        "P_total = 3.0\n",
        "P_O2 = 1.0   # Presión parcial de O2 en atmósferas\n",
        "P_N2 = P_total - P_O2\n",
        "\n",
        "print(\"La presión parcial de N2 es:\", P_N2, \"atm\")"
      ],
      "metadata": {
        "id": "ZLEO5fFwYBM0"
      },
      "execution_count": null,
      "outputs": []
    },
    {
      "cell_type": "markdown",
      "source": [
        "9.3. Un tanque contiene helio (He) y argón (Ar) a una presión total de 5 atmósferas. Si la presión\n",
        "parcial de He es de 3 atmósferas, ¿cuál es la presión parcial de Ar?"
      ],
      "metadata": {
        "id": "ICRU7N8tYPxo"
      }
    },
    {
      "cell_type": "code",
      "source": [
        "P_total = 5.0\n",
        "P_He = 3.0\n",
        "P_Ar = P_total - P_He\n",
        "\n",
        "print(\"La presión parcial de Ar es:\", P_Ar, \"atm\")"
      ],
      "metadata": {
        "id": "I4saEAcWYXoS"
      },
      "execution_count": null,
      "outputs": []
    },
    {
      "cell_type": "markdown",
      "source": [
        "10.1. Si 2 moles de un gas real ocupan 3 litros a 300 K y 2 atmósferas de presión, ¿cuál es el factor\n",
        "de compresibilidad (Z) del gas?"
      ],
      "metadata": {
        "id": "hehWTgb8Ygdh"
      }
    },
    {
      "cell_type": "code",
      "source": [
        "n = 2.0\n",
        "V = 3.0\n",
        "P = 2.0\n",
        "T = 300.0\n",
        "\n",
        "R = 0.0821     # Constante de los gases ideales en L·atm/(mol·K)\n",
        "Z = (P * V) / (n * R * T)  # factor de compresibilidad (Z)\n",
        "\n",
        "print(\"El factor de compresibilidad (Z) es:\", Z)"
      ],
      "metadata": {
        "id": "JIK812OGYpHu"
      },
      "execution_count": null,
      "outputs": []
    },
    {
      "cell_type": "markdown",
      "source": [
        "10.2. Un gas real se encuentra en un recipiente de 5 litros a 350 K y 4 atmósferas de presión.\n",
        "Calcular el factor de compresibilidad (Z) del gas en estas condiciones."
      ],
      "metadata": {
        "id": "BPL70PyfY36C"
      }
    },
    {
      "cell_type": "code",
      "source": [
        "n = 1.0\n",
        "V = 5.0\n",
        "P = 4.0\n",
        "T = 350.0\n",
        "\n",
        "R = 0.0821\n",
        "Z = (P * V) / (n * R * T)\n",
        "\n",
        "print(\"El factor de compresibilidad (Z) es:\", Z)"
      ],
      "metadata": {
        "id": "GVozK5BvYwBD"
      },
      "execution_count": null,
      "outputs": []
    }
  ]
}