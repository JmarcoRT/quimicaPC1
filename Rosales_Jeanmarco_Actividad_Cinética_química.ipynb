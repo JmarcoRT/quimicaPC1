{
  "nbformat": 4,
  "nbformat_minor": 0,
  "metadata": {
    "colab": {
      "provenance": [],
      "authorship_tag": "ABX9TyMcN2NAJJKYEOdkrxMZynh4",
      "include_colab_link": true
    },
    "kernelspec": {
      "name": "python3",
      "display_name": "Python 3"
    },
    "language_info": {
      "name": "python"
    }
  },
  "cells": [
    {
      "cell_type": "markdown",
      "metadata": {
        "id": "view-in-github",
        "colab_type": "text"
      },
      "source": [
        "<a href=\"https://colab.research.google.com/github/JmarcoRT/quimicaPC1/blob/main/Rosales_Jeanmarco_Actividad_Cin%C3%A9tica_qu%C3%ADmica.ipynb\" target=\"_parent\"><img src=\"https://colab.research.google.com/assets/colab-badge.svg\" alt=\"Open In Colab\"/></a>"
      ]
    },
    {
      "cell_type": "markdown",
      "source": [
        "Determinar la energía de activación para la reacción de isomerización (estudio cinético) e indicar si la reacción es endotérmica o exotérmica (estudio termodinámico):"
      ],
      "metadata": {
        "id": "BVBaz-vtMkVG"
      }
    },
    {
      "cell_type": "markdown",
      "source": [
        "F\\C=C/C (cis)  --> F/C=C/C (trans)"
      ],
      "metadata": {
        "id": "anIHNZzrMrPz"
      }
    },
    {
      "cell_type": "code",
      "execution_count": null,
      "metadata": {
        "id": "gwE19zNgMfCr"
      },
      "outputs": [],
      "source": [
        "!pip install rdkit-pypi"
      ]
    },
    {
      "cell_type": "code",
      "source": [
        "!pip install pyscf"
      ],
      "metadata": {
        "id": "XB1Tq7cWOpUO"
      },
      "execution_count": null,
      "outputs": []
    },
    {
      "cell_type": "code",
      "source": [
        "!pip install py3Dmol"
      ],
      "metadata": {
        "id": "TNR2LF1SOJvy"
      },
      "execution_count": null,
      "outputs": []
    },
    {
      "cell_type": "code",
      "source": [
        "from rdkit import Chem\n",
        "from rdkit.Chem import AllChem\n",
        "\n",
        "cis_smiles = \"F/C=C/C\"\n",
        "cis_mol = Chem.MolFromSmiles(cis_smiles)\n",
        "cis_mol = Chem.AddHs(cis_mol)\n",
        "AllChem.EmbedMolecule(cis_mol)\n",
        "Chem.MolToXYZFile(cis_mol, \"cis_butene.xyz\")\n",
        "\n",
        "trans_smiles = \"F\\C=C/C\"\n",
        "trans_mol = Chem.MolFromSmiles(trans_smiles)\n",
        "trans_mol = Chem.AddHs(trans_mol)\n",
        "AllChem.EmbedMolecule(trans_mol)\n",
        "Chem.MolToXYZFile(trans_mol, \"trans_butene.xyz\")"
      ],
      "metadata": {
        "id": "5jaQJADlP1jT"
      },
      "execution_count": 19,
      "outputs": []
    },
    {
      "cell_type": "code",
      "source": [
        "import py3Dmol\n",
        "\n",
        "with open(\"cis_butene.xyz\") as f:\n",
        "    cis_xyz = f.read()\n",
        "\n",
        "with open(\"trans_butene.xyz\") as f:\n",
        "    trans_xyz = f.read()\n",
        "\n",
        "viewer_cis = py3Dmol.view(width=200, height=200)\n",
        "viewer_cis.addModel(cis_xyz, \"xyz\")\n",
        "viewer_cis.setStyle({\"stick\": {}})\n",
        "viewer_cis.zoomTo()\n",
        "viewer_cis.show()\n",
        "\n",
        "viewer_trans = py3Dmol.view(width=200, height=200)\n",
        "viewer_trans.addModel(trans_xyz, \"xyz\")\n",
        "viewer_trans.setStyle({\"stick\": {}})\n",
        "viewer_trans.zoomTo()\n",
        "viewer_trans.show()"
      ],
      "metadata": {
        "id": "lBpiHg5oP19V"
      },
      "execution_count": null,
      "outputs": []
    },
    {
      "cell_type": "code",
      "source": [
        "from pyscf import gto, scf\n",
        "\n",
        "cis_mol = gto.M(atom=\"cis_butene.xyz\")\n",
        "cis_mol.basis = \"3-21G\"\n",
        "mf_cis = scf.RHF(cis_mol)\n",
        "cis_energy = mf_cis.kernel()\n",
        "\n",
        "trans_mol = gto.M(atom=\"trans_butene.xyz\")\n",
        "trans_mol.basis = \"3-21G\"\n",
        "mf_trans = scf.RHF(trans_mol)\n",
        "trans_energy = mf_trans.kernel()\n",
        "\n",
        "if cis_energy > trans_energy:\n",
        "    print(\"La reacción es endotérmica.\")\n",
        "    delta_energy = cis_energy - trans_energy\n",
        "    print(f\"Energía de cis-buteno: {cis_energy} Hartree\")\n",
        "    print(f\"Energía de trans-buteno: {trans_energy} Hartree\")\n",
        "    print(f\"Cambio en energía (cis - trans): {delta_energy} Hartree (positivo)\")\n",
        "elif cis_energy < trans_energy:\n",
        "    print(\"La reacción es exotérmica.\")\n",
        "    delta_energy = trans_energy - cis_energy\n",
        "    print(f\"Energía de cis-buteno: {cis_energy} Hartree\")\n",
        "    print(f\"Energía de trans-buteno: {trans_energy} Hartree\")\n",
        "    print(f\"Cambio en energía (trans - cis): {delta_energy} Hartree (negativo)\")\n",
        "else:\n",
        "    print(\"La energía de las dos estructuras es la misma.\")\n",
        "    print(f\"Energía de cis-buteno: {cis_energy} Hartree\")\n",
        "    print(f\"Energía de trans-buteno: {trans_energy} Hartree\")"
      ],
      "metadata": {
        "id": "aMAYkYo6P1w1"
      },
      "execution_count": null,
      "outputs": []
    }
  ]
}