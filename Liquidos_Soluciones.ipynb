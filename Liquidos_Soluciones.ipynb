{
  "cells": [
    {
      "cell_type": "markdown",
      "metadata": {
        "id": "view-in-github",
        "colab_type": "text"
      },
      "source": [
        "<a href=\"https://colab.research.google.com/github/JmarcoRT/quimicaPC1/blob/main/Liquidos_Soluciones.ipynb\" target=\"_parent\"><img src=\"https://colab.research.google.com/assets/colab-badge.svg\" alt=\"Open In Colab\"/></a>"
      ]
    },
    {
      "cell_type": "markdown",
      "source": [
        "**11.1** Proponga un ejemplo para cada tipo de fuerzas inter-\n",
        "moleculares: a) interacción dipolo-dipolo, b) interac-\n",
        "ción dipolo-dipolo inducido, c) interacción ion-dipolo,\n",
        "d) fuerzas de dispersión, e) fuerzas de van der Waals."
      ],
      "metadata": {
        "id": "lJiKL_fYjhFj"
      }
    },
    {
      "cell_type": "markdown",
      "source": [
        "a) Interacción dipolo-dipolo: La atracción entre moléculas de HCl.\n",
        "\n",
        "b) Interacción dipolo-dipolo inducido: La atracción entre moléculas de CO2.\n",
        "\n",
        "c) Interacción ion-dipolo: La atracción entre un ion Na+ y una molécula de agua (H2O).\n",
        "\n",
        "d) Fuerzas de dispersión: La atracción entre moléculas de N2.\n",
        "\n",
        "e) Fuerzas de van der Waals: Se puede usar para referirse a cualquiera de los casos anteriores (a, b, c, d) ya que todas son fuerzas intermoleculares débiles."
      ],
      "metadata": {
        "id": "btscnU1Ykoo3"
      }
    },
    {
      "cell_type": "markdown",
      "source": [
        "**11.2**Explique el término \"polarizabilidad\". ¿Qué clase de\n",
        "moléculas tienden a ser muy polarizables? ¿Qué relación existe entre la polarizabilidad y las fuerzas intermoleculares?"
      ],
      "metadata": {
        "id": "bfPMu3xJkpA1"
      }
    },
    {
      "cell_type": "markdown",
      "source": [
        "Se refiere a la capacidad de una molécula para deformar su nube electrónica en respuesta a un campo eléctrico externo. Las moléculas con átomos pesados tienden a ser más polarizables. Una alta polarizabilidad está relacionada con fuerzas de dispersión más fuertes entre las moléculas."
      ],
      "metadata": {
        "id": "3I-FGjrulBiG"
      }
    },
    {
      "cell_type": "markdown",
      "source": [
        "**11.3**Explique la diferencia entre un momento dipolar temporal y un momento dipolar permanente."
      ],
      "metadata": {
        "id": "aZauXvFnlCBU"
      }
    },
    {
      "cell_type": "markdown",
      "source": [
        "\n",
        "Un momento dipolar permanente es una propiedad intrínseca y constante en moléculas polares, mientras que un momento dipolar temporal es una polarización momentánea y transitoria que ocurre en moléculas no polares bajo la influencia de factores externos.\n",
        "\n",
        "\n",
        "\n",
        "\n"
      ],
      "metadata": {
        "id": "3awWOuAXlCWr"
      }
    },
    {
      "cell_type": "markdown",
      "source": [
        "**11.4**Mencione alguna evidencia de que todos los átomos y moléculas ejercen entre sí fuerzas de atracción."
      ],
      "metadata": {
        "id": "MGiur9rvlCxE"
      }
    },
    {
      "cell_type": "markdown",
      "source": [
        "La existencia de sólidos y líquidos, así como la formación de compuestos químicos, son evidencias de que todos los átomos y moléculas ejercen fuerzas de atracción entre sí."
      ],
      "metadata": {
        "id": "5krvuNLjlcft"
      }
    },
    {
      "cell_type": "markdown",
      "source": [
        "**11.5**¿Qué propiedades físicas se deberían considerar al comparar la intensidad de las fuerzas intermoleculares en los sólidos y los líquidos?"
      ],
      "metadata": {
        "id": "KbCpGTkOlc7m"
      }
    },
    {
      "cell_type": "markdown",
      "source": [
        "Para comparar la intensidad de las fuerzas intermoleculares en sólidos y líquidos, considere el punto de fusión, el punto de ebullición, la entalpía de vaporización, la densidad y la solubilidad. Las sustancias con fuerzas más fuertes tendrán puntos de fusión y ebullición más altos, una mayor entalpía de vaporización, mayor densidad y mayor solubilidad entre sustancias con fuerzas similares."
      ],
      "metadata": {
        "id": "IhFR0bIxlos4"
      }
    },
    {
      "cell_type": "markdown",
      "source": [
        "**11.6**¿Cuáles elementos pueden participar en los enlaces de hidrógeno? ¿Por qué el hidrógeno es único en este tipo de interacción?"
      ],
      "metadata": {
        "id": "ZLEyEv6Ylo7o"
      }
    },
    {
      "cell_type": "markdown",
      "source": [
        "El hidrógeno es único en la formación de enlaces de hidrógeno debido a su alta electronegatividad y el pequeño tamaño de los átomos electronegativos como el oxígeno y el nitrógeno. Estas características resultan en una fuerte atracción entre el hidrógeno y los átomos electronegativos, lo que da lugar a enlaces de hidrógeno significativamente fuertes.\n",
        "\n",
        "\n",
        "\n",
        "\n"
      ],
      "metadata": {
        "id": "KmAbpNzPl1Kd"
      }
    },
    {
      "cell_type": "markdown",
      "source": [
        "**11.7**Los compuestos Br2 y ICl tienen el mismo número de\n",
        "electrones, pero el Br2 se funde a —7.20C y el ICl se\n",
        "funde a 27.20C. ¿Por qué?"
      ],
      "metadata": {
        "id": "F-MwNQVvl1dV"
      }
    },
    {
      "cell_type": "markdown",
      "source": [
        "La diferencia en los puntos de fusión se debe a las fuerzas intermoleculares. ICl es polar y tiene fuerzas dipolo-dipolo más fuertes que Br2, que es no polar y tiene fuerzas de dispersión más débiles.\n",
        "\n",
        "\n",
        "\n",
        "\n"
      ],
      "metadata": {
        "id": "CaoYOcfsmN4K"
      }
    },
    {
      "cell_type": "markdown",
      "source": [
        "**11.8**Si viviera en Alaska, ¿cuál de los siguientes gases natu-\n",
        "rales almacenaría en un tanque a la intemperie durante\n",
        "el invierno: metano (CH4), propano (C3H8) o butano\n",
        "(C4H10)? Justifique su respuesta."
      ],
      "metadata": {
        "id": "0t5P2d57mOKZ"
      }
    },
    {
      "cell_type": "markdown",
      "source": [
        "\n",
        "En Alaska, durante el invierno, se almacenaría el metano (CH4) al aire libre debido a su bajo punto de ebullición y presión de vapor, lo que lo hace adecuado para resistir bajas temperaturas. El propano (C3H8) y el butano (C4H10) son menos adecuados ya que tienden a volverse líquidos a bajas temperaturas."
      ],
      "metadata": {
        "id": "NhA9bI3imOcf"
      }
    },
    {
      "cell_type": "markdown",
      "source": [
        "**11.9**\n",
        "Los compuestos binarios de hidrógeno de los elemen-\n",
        "tos del grupo 4A y sus puntos de ebullición son: CH4,\n",
        "-1620C; SiH4, -1120c; GeH4, -880C, y snH4, —520C. Explique el incremento de los puntos de ebulli-\n",
        "ción desde CH4 hasta SnH4."
      ],
      "metadata": {
        "id": "_-DIdiH7mbA0"
      }
    },
    {
      "cell_type": "markdown",
      "source": [
        "El incremento en los puntos de ebullición desde CH4 hasta SnH4 se debe al aumento en el tamaño de los átomos en el grupo 4A de la tabla periódica, lo que resulta en fuerzas intermoleculares de dispersión más fuertes a medida que los átomos se vuelven más grandes y pesados.\n",
        "\n",
        "\n",
        "\n",
        "\n"
      ],
      "metadata": {
        "id": "vlpH3sJnmbUW"
      }
    },
    {
      "cell_type": "markdown",
      "source": [
        "**11.10**Mencione los tipos de fuerzas intermoleculares que hay\n",
        "entre las moléculas (o unidades básicas) en cada una de\n",
        "las siguientes especies: a) benceno (C6H6), b) CH3Cl,\n",
        "c) PF3, d) NaCl, e) CS2."
      ],
      "metadata": {
        "id": "8L2wZHV1mp33"
      }
    },
    {
      "cell_type": "markdown",
      "source": [
        "\n",
        "a) Benceno (C6H6): Fuerzas de dispersión de London.\n",
        "b) CH3Cl: Fuerzas de dispersión de London y fuerzas dipolo-dipolo.\n",
        "c) PF3: Fuerzas de dispersión de London y fuerzas dipolo-dipolo.\n",
        "d) NaCl: Fuerzas iónicas (enlaces iónicos).\n",
        "e) CS2: Fuerzas de dispersión de London."
      ],
      "metadata": {
        "id": "oZ1ZuHXkmqJZ"
      }
    },
    {
      "cell_type": "markdown",
      "source": [
        "**11.12**¿Cuáles de las especies siguientes son capaces de unir-\n",
        "se entre sí mediante enlaces de hidrógeno? a) C2H6,\n",
        "b) Hl, c) KF, d) BeH2, e) CH3COOH."
      ],
      "metadata": {
        "id": "6MTHM_4cm6V5"
      }
    },
    {
      "cell_type": "markdown",
      "source": [
        "b) Hl\n",
        "e) CH3COOH"
      ],
      "metadata": {
        "id": "tlTWuSidm6o5"
      }
    },
    {
      "cell_type": "markdown",
      "source": [
        "**11.13**Organice los siguientes compuestos en orden creciente según su punto de ebullición: RbF, C02, CH30H, CH3Br. Justifique su respuesta."
      ],
      "metadata": {
        "id": "MR9H-b0im66v"
      }
    },
    {
      "cell_type": "markdown",
      "source": [
        "\n",
        "En orden creciente de puntos de ebullición:\n",
        "\n",
        "1. CH3Br\n",
        "2. CO2\n",
        "3. CH3OH\n",
        "4. RbF\n",
        "\n",
        "La justificación es que los puntos de ebullición aumentan con la fuerza de las fuerzas intermoleculares, siendo RbF el compuesto con las fuerzas más fuertes debido a sus enlaces iónicos.\n",
        "\n",
        "\n",
        "\n",
        "\n",
        "\n"
      ],
      "metadata": {
        "id": "5IJJglTfoBep"
      }
    },
    {
      "cell_type": "markdown",
      "source": [
        "**11.14**EI éter dietílico tiene un punto de ebullición de 34.50C,\n",
        "y el 1-butanol tiene un punto de ebullición de 1170C:Los dos compuestos tienen el mismo tipo y número de\n",
        "átomos. Explique por qué son distintos sus puntos\n",
        "de ebullición."
      ],
      "metadata": {
        "id": "6o9dEQcMoN00"
      }
    },
    {
      "cell_type": "markdown",
      "source": [
        "El punto de ebullición diferente entre el éter dietílico y el 1-butanol se debe a las fuerzas intermoleculares. El 1-butanol puede formar enlaces de hidrógeno, que son más fuertes que las fuerzas de Van der Waals en el éter dietílico, lo que resulta en un punto de ebullición más alto para el 1-butanol."
      ],
      "metadata": {
        "id": "zcRHBxJzoYR6"
      }
    },
    {
      "cell_type": "markdown",
      "source": [
        "**11.15**¿De cuál miembro de cada uno de los siguientes pares\n",
        "de sustancias se esperaría que tuviera el punto de ebu-\n",
        "Ilición más alto? a) 02 y C12, b) S02 y C02, c) HF y Hl."
      ],
      "metadata": {
        "id": "IBdNZcrnojDF"
      }
    },
    {
      "cell_type": "markdown",
      "source": [
        "a) Cl2 tendría un punto de ebullición más alto que O2 debido a las fuerzas de Van der Waals más fuertes en el cloro.\n",
        "\n",
        "b) SO2 tendría un punto de ebullición más alto que CO2 debido a las fuerzas de Van der Waals y enlaces de hidrógeno en el SO2.\n",
        "\n",
        "c) HF tendría un punto de ebullición más alto que HI debido a que el HF forma enlaces de hidrógeno más fuertes."
      ],
      "metadata": {
        "id": "-VujCb8fonAG"
      }
    },
    {
      "cell_type": "markdown",
      "source": [
        "**11.16**¿De cuál sustancia de cada uno de los siguientes pares\n",
        "se esperaría que tuviera el punto de ebullición más alto?\n",
        "a) Ne o xe, b) C02 0 CS2, c) CH4 0 C12, d) F2 0 LiF,\n",
        "e) NH3 0 PH3. Explique su respuesta."
      ],
      "metadata": {
        "id": "DsfMwSzronSd"
      }
    },
    {
      "cell_type": "markdown",
      "source": [
        "a) Xe tiene un punto de ebullición más alto que Ne debido a su mayor masa molar y fuerzas de Van der Waals más fuertes.\n",
        "\n",
        "b) CS2 tiene un punto de ebullición más alto que CO2 debido a su mayor masa molar y fuerzas de Van der Waals más fuertes.\n",
        "\n",
        "c) Cl2 tiene un punto de ebullición más alto que CH4 debido a su mayor masa molar.\n",
        "\n",
        "d) LiF tiene un punto de ebullición más alto que F2 debido a sus enlaces iónicos fuertes.\n",
        "\n",
        "e) NH3 tiene un punto de ebullición más alto que PH3 debido a fuerzas de enlace de hidrógeno más fuertes en NH3."
      ],
      "metadata": {
        "id": "7leyEamgontE"
      }
    },
    {
      "cell_type": "markdown",
      "source": [
        "**11.17**Explique, en función de las fuerzas intermoleculares,\n",
        "por qué: a) el NH3 tiene un punto de ebullición más\n",
        "alto que el CH4 y b) el KCl tiene un punto de fusión\n",
        "mayor que el del 12."
      ],
      "metadata": {
        "id": "V2prZgrwo-7S"
      }
    },
    {
      "cell_type": "markdown",
      "source": [
        "a) NH3 tiene un punto de ebullición más alto que CH4 debido a la formación de enlaces de hidrógeno en NH3.\n",
        "\n",
        "b) KCl tiene un punto de fusión mayor que I2 debido a los enlaces iónicos fuertes en KCl."
      ],
      "metadata": {
        "id": "9GpA5t-vo_R3"
      }
    },
    {
      "cell_type": "markdown",
      "source": [
        "**11.21**¿Por qué los líquidos, a diferencia de los gases, son\n",
        "prácticamente incompresibles?"
      ],
      "metadata": {
        "id": "w-nE6y8-pX8d"
      }
    },
    {
      "cell_type": "markdown",
      "source": [
        "\n",
        "Los líquidos son prácticamente incompresibles en comparación con los gases debido a la proximidad de las partículas y las fuerzas intermoleculares más fuertes en los líquidos. Las partículas en los líquidos ya ocupan un espacio relativamente compacto, lo que limita su capacidad de compresión."
      ],
      "metadata": {
        "id": "Zc8CJDccpgZc"
      }
    },
    {
      "cell_type": "markdown",
      "source": [
        "**11.22**¿Qué es la tensión superficial? ¿Qué relación existe entre\n",
        "esta propiedad y las fuerzas intermoleculares? ¿Cómo\n",
        "cambia la tensión superficial con la temperatura?"
      ],
      "metadata": {
        "id": "cGuP21sopkLV"
      }
    },
    {
      "cell_type": "markdown",
      "source": [
        "La tensión superficial es la propiedad de la superficie de un líquido para comportarse como una película elástica debido a las fuerzas intermoleculares en su superficie. A medida que la temperatura aumenta, la tensión superficial tiende a disminuir debido a la agitación molecular más intensa."
      ],
      "metadata": {
        "id": "JE-8sCwCppV2"
      }
    },
    {
      "cell_type": "markdown",
      "source": [
        "**11.23**A pesar de que el acero inoxidable es mucho más denso\n",
        "que el agua, una navaja de afeitar de acero inoxidable\n",
        "puede flotar en el agua. ¿Por qué?"
      ],
      "metadata": {
        "id": "fUHxPWbfppwO"
      }
    },
    {
      "cell_type": "markdown",
      "source": [
        "\n",
        "La navaja de acero inoxidable flota en el agua porque su forma y diseño hacen que desplace una cantidad de agua igual o mayor que su propio peso, cumpliendo así con el principio de flotación de Arquímedes."
      ],
      "metadata": {
        "id": "uA2FF-h1o_hW"
      }
    },
    {
      "cell_type": "markdown",
      "source": [
        "**11.24**Utilice eI agua y eI mercurio como ejemplos para expli-\n",
        "car la adhesión y la cohesión."
      ],
      "metadata": {
        "id": "rKD1kzAlp3HS"
      }
    },
    {
      "cell_type": "markdown",
      "source": [
        "Agua (H2O): Cohesión se debe a los enlaces de hidrógeno entre moléculas de agua. Adhesión es cuando el agua se adhiere a superficies distintas a sí misma.\n",
        "Mercurio (Hg): Tiene cohesión débil y no adhiere fuertemente a superficies debido a sus fuerzas de cohesión más débiles."
      ],
      "metadata": {
        "id": "Sj4mDaJkp3rK"
      }
    },
    {
      "cell_type": "markdown",
      "source": [
        "**11.25**Un vaso se puede llenar con agua justo por encima del\n",
        "borde. ¿Por qué el agua no se derrama?"
      ],
      "metadata": {
        "id": "muE3mvXMp4DI"
      }
    },
    {
      "cell_type": "markdown",
      "source": [
        "\n",
        "El agua no se derrama del vaso cuando se llena justo por encima del borde debido a la tensión superficial, que actúa como una película elástica que \"sujeta\" la superficie del líquido en su lugar."
      ],
      "metadata": {
        "id": "2zZq-FYVqFr9"
      }
    },
    {
      "cell_type": "markdown",
      "source": [
        "**12.3**Describa brevemente el proceso de disolución a nivel\n",
        "molecular. Utilice como ejemplo la disolución de un\n",
        "sólido en un líquido."
      ],
      "metadata": {
        "id": "f04E3T-vqJSd"
      }
    },
    {
      "cell_type": "markdown",
      "source": [
        "El proceso de disolución a nivel molecular implica que las moléculas de un líquido rodean y separan las partículas de un sólido, dispersándolas uniformemente en la solución debido a las fuerzas intermoleculares, como las fuerzas de ion-dipolo en el caso de la disolución de sal en agua."
      ],
      "metadata": {
        "id": "-0DUmFzmqOQL"
      }
    },
    {
      "cell_type": "markdown",
      "source": [
        "**12.4**A partir de las fuerzas intermoleculares, explique el significado de \"Lo semejante disuelve lo semejante\"."
      ],
      "metadata": {
        "id": "g0bQbgFeqOdP"
      }
    },
    {
      "cell_type": "markdown",
      "source": [
        "\"Lo semejante disuelve a lo semejante\" significa que sustancias con fuerzas intermoleculares similares tienden a mezclarse o disolverse entre sí más eficazmente. Esto se basa en la compatibilidad de polaridad y fuerzas intermoleculares."
      ],
      "metadata": {
        "id": "Kc1iowryqZz2"
      }
    },
    {
      "cell_type": "markdown",
      "source": [
        "**12.5**¿Qué es la solvatación? ¿Cuáles son los factores que\n",
        "influyen en el grado de solvatación? Proporcione dos\n",
        "ejemplos de solvatación; incluya uno relacionado con\n",
        "la interacción ion-dipolo, y otro en el que intervengan\n",
        "fuerzas de dispersión."
      ],
      "metadata": {
        "id": "qL-QcsPOqOwp"
      }
    },
    {
      "cell_type": "markdown",
      "source": [
        "\n",
        "La solvatación es cuando un solvente rodea y dispersa eficazmente un soluto en una solución. Los factores que influyen son la naturaleza del soluto y solvente, y la temperatura.\n",
        "\n",
        "Ejemplos:\n",
        "\n",
        "Solvatación con interacción ion-dipolo: Disolver NaCl en agua.\n",
        "Solvatación con fuerzas de dispersión: Disolver gasolina en hexano."
      ],
      "metadata": {
        "id": "-q05ebdoqPAh"
      }
    },
    {
      "cell_type": "markdown",
      "source": [
        "**12.6**Según se sabe, algunos procesos de disolución son\n",
        "endotérmicos y otros son exotérmicos. Proponga una\n",
        "interpretación molecular de esta diferencia."
      ],
      "metadata": {
        "id": "LAX27KmQq3tP"
      }
    },
    {
      "cell_type": "markdown",
      "source": [
        "\n",
        "La diferencia entre disoluciones endotérmicas y exotérmicas radica en la cantidad de energía requerida o liberada durante la disolución a nivel molecular. Las disoluciones endotérmicas requieren absorber energía para romper las fuerzas intermoleculares, mientras que las disoluciones exotérmicas liberan energía al formarse nuevas fuerzas intermoleculares en la solución."
      ],
      "metadata": {
        "id": "E359avfGq7aX"
      }
    },
    {
      "cell_type": "markdown",
      "source": [
        "**12.13**Defina los siguientes términos de concentración y especifique sus unidades: \"porcentaje en masa\", \"fracción\n",
        "molar\", \"molaridad\" y \"molalidad\". Compare sus ventajas y sus desventajas."
      ],
      "metadata": {
        "id": "Pn76IXeVq87G"
      }
    },
    {
      "cell_type": "markdown",
      "source": [
        "\n",
        "Porcentaje en masa (unidad: %): Proporción de masa del soluto en relación con la masa total de la solución. Fácil de calcular.\n",
        "Fracción molar (unidad: adimensional): Relación entre moles del soluto y moles totales en la solución. Útil para comparar soluciones.\n",
        "Molaridad (unidad: mol/L): Concentración en moles de soluto por litro de solución. Útil en reacciones químicas.\n",
        "Molalidad (unidad: mol/kg): Concentración en moles de soluto por kilogramo de solvente. Útil a temperaturas extremas y en coligativas."
      ],
      "metadata": {
        "id": "BAXhfzaEq9I_"
      }
    },
    {
      "cell_type": "markdown",
      "source": [
        "**12.14**Describa brevemente los pasos que se requieren para la conversión entre molaridad, molalidad y porcentaje en\n",
        "masa."
      ],
      "metadata": {
        "id": "Ide2n_dMrM4H"
      }
    },
    {
      "cell_type": "markdown",
      "source": [
        "De molaridad a molalidad: Use la densidad del solvente y la fórmula m = (Moles de soluto / Peso del solvente en kg).\n",
        "De molalidad a molaridad: Use la densidad del solvente y la fórmula M = (Moles de soluto / Volumen de solución en L).\n",
        "De porcentaje en masa a molaridad o molalidad: Calcule la masa de soluto, luego utilice las fórmulas correspondientes.\n",
        "De molaridad o molalidad a porcentaje en masa: Calcule los moles de soluto, la masa total de la solución y utilice la fórmula % m/m = [(Moles de soluto / Masa total de la solución) x 100]."
      ],
      "metadata": {
        "id": "yg6DmaV6rNIH"
      }
    },
    {
      "cell_type": "markdown",
      "source": [
        "**12.15**Calcule el porcentaje en masa de soluto en cada una de\n",
        "las siguientes disoluciones acuosas: a) 5.50 g de NaBr\n",
        "en 78.2 g de disolución, b) 31.0 g de KCl en 152 g de\n",
        "agua, c) 4.5 g de tolueno en 29 g de benceno."
      ],
      "metadata": {
        "id": "BWRdj5pxrVVP"
      }
    },
    {
      "cell_type": "code",
      "source": [
        "masa_soluto_a = 5.50\n",
        "masa_solucion_a = 78.2\n",
        "porcentaje_masa_a = (masa_soluto_a / (masa_solucion_a + masa_soluto_a)) * 100\n",
        "print(\"a) Porcentaje en masa de NaBr en la disolución: {:.2f}%\".format(porcentaje_masa_a))\n",
        "\n",
        "masa_soluto_b = 31.0\n",
        "masa_solucion_b = 152\n",
        "\n",
        "porcentaje_masa_b = (masa_soluto_b / (masa_solucion_b + masa_soluto_b)) * 100\n",
        "print(\"b) Porcentaje en masa de KCl en la disolución: {:.2f}%\".format(porcentaje_masa_b))\n",
        "\n",
        "masa_soluto_c = 4.5\n",
        "masa_solucion_c = 29\n",
        "\n",
        "porcentaje_masa_c = (masa_soluto_c / (masa_solucion_c + masa_soluto_c)) * 100\n",
        "print(\"c) Porcentaje en masa de tolueno en la disolución: {:.2f}%\".format(porcentaje_masa_c))"
      ],
      "metadata": {
        "id": "kyrqml1vroLb"
      },
      "execution_count": null,
      "outputs": []
    },
    {
      "cell_type": "markdown",
      "source": [
        "**12.16**Calcule la cantidad de agua (en gramos) que se debe\n",
        "agregar a: a) 5.00 g de urea (NH2)2CO para preparar\n",
        "una disolución al 16.2% en masa y b) 26.2 g de MgC12\n",
        "para preparar una disolución al I en masa."
      ],
      "metadata": {
        "id": "ueLa2au5rVjH"
      }
    },
    {
      "cell_type": "code",
      "source": [
        "masa_urea = 5.00\n",
        "porcentaje_masa = 16.2\n",
        "masa_total_disolucion = masa_urea / (porcentaje_masa / 100)\n",
        "masa_agua_a_agregar = masa_total_disolucion - masa_urea\n",
        "print(\"a) Debes agregar {:.2f} g de agua para preparar la disolución al 16.2% en masa.\".format(masa_agua_a_agregar))\n",
        "\n",
        "masa_MgCl2 = 26.2\n",
        "print(\"b) No es necesario agregar agua, la disolución de MgCl2 es al 100% en masa.\")"
      ],
      "metadata": {
        "id": "3_oEwFRrjhce"
      },
      "execution_count": null,
      "outputs": []
    },
    {
      "cell_type": "markdown",
      "source": [
        "**12.17**Calcule la molalidad de cada una de las siguientes diso-\n",
        "luciones: a) 14.3 g de sacarosa (C12H22011) en 676 g de\n",
        "agua, b) 7.20 moles de etilenglicol (C2H602) en 3 546 g\n",
        "de agua."
      ],
      "metadata": {
        "id": "TRzRU5N_rw3p"
      }
    },
    {
      "cell_type": "code",
      "source": [
        "masa_sacarosa = 14.3\n",
        "masa_agua = 676\n",
        "formula_molar_sacarosa = 342.3\n",
        "\n",
        "moles_sacarosa = masa_sacarosa / formula_molar_sacarosa\n",
        "molalidad_sacarosa = moles_sacarosa / (masa_agua / 1000)\n",
        "print(\"a) Molalidad de la disolución de sacarosa en agua: {:.4f} mol/kg\".format(molalidad_sacarosa))\n",
        "\n",
        "\n",
        "moles_etilenglicol = 7.20\n",
        "masa_agua_2 = 3546\n",
        "molalidad_etilenglicol = moles_etilenglicol / (masa_agua_2 / 1000)\n",
        "print(\"b) Molalidad de la disolución de etilenglicol en agua: {:.4f} mol/kg\".format(molalidad_etilenglicol))"
      ],
      "metadata": {
        "id": "DfpPQ-Xpr71i"
      },
      "execution_count": null,
      "outputs": []
    },
    {
      "cell_type": "markdown",
      "source": [
        "**12.18**Calcule la molalidad de cada una de las siguientes diso-\n",
        "luciones acuosas: a) disolución de NaCl 2.50 M (densi-\n",
        "dad de la disolución\n",
        "= 1.08 g/mL), b) disolución de\n",
        "K Br al en masa."
      ],
      "metadata": {
        "id": "Ztc-XWSBr7Fy"
      }
    },
    {
      "cell_type": "code",
      "source": [
        "molaridad_NaCl = 2.50  # M\n",
        "densidad_disolucion = 1.08\n",
        "masa_molar_NaCl = 58.44\n",
        "\n",
        "moles_NaCl = molaridad_NaCl\n",
        "peso_solvente_1L = densidad_disolucion * 1000\n",
        "molalidad_NaCl = moles_NaCl / (peso_solvente_1L / 1000)\n",
        "\n",
        "print(\"a) Molalidad de la disolución de NaCl: {:.4f} mol/kg\".format(molalidad_NaCl))"
      ],
      "metadata": {
        "id": "woUq-tGYsRq-"
      },
      "execution_count": null,
      "outputs": []
    },
    {
      "cell_type": "markdown",
      "source": [
        "**12.27**Una muestra de 3.20 g de una sal se disuelve en 9.10 g\n",
        "de agua para formar una disolución saturada a 250C.\n",
        "¿Cuál es la solubilidad (en g de sal/100 g de H20) de la\n",
        "sal?"
      ],
      "metadata": {
        "id": "t0KjwItyr7VI"
      }
    },
    {
      "cell_type": "code",
      "source": [
        "masa_sal = 3.20\n",
        "masa_agua = 9.10\n",
        "\n",
        "solubilidad = (masa_sal / masa_agua) * 100\n",
        "print(\"La solubilidad de la sal en agua es: {:.2f} g de sal/100 g de H2O\".format(solubilidad))"
      ],
      "metadata": {
        "colab": {
          "base_uri": "https://localhost:8080/"
        },
        "id": "P5onlOzMsspR",
        "outputId": "ed66f494-cd62-4a01-82ee-f27318862650"
      },
      "execution_count": 9,
      "outputs": [
        {
          "output_type": "stream",
          "name": "stdout",
          "text": [
            "La solubilidad de la sal en agua es: 35.16 g de sal/100 g de H2O\n"
          ]
        }
      ]
    },
    {
      "cell_type": "markdown",
      "source": [
        "**12.28**La solubilidad del KN03 es de 155 g por 100 g de agua\n",
        "a 750C, y de 38.0 g a 250C. ¿Cuál es la masa (en gramos) de KN03 que cristalizará al enfriar exactamente\n",
        "100 g de esta disolución saturada de 750C a 250C?"
      ],
      "metadata": {
        "id": "Tim2girJsp4z"
      }
    },
    {
      "cell_type": "code",
      "source": [
        "solubilidad_75C = 155.0\n",
        "solubilidad_25C = 38.0\n",
        "masa_inicial_agua = 100.0\n",
        "\n",
        "masa_inicial_KNO3_75C = (solubilidad_75C / 100) * masa_inicial_agua\n",
        "KNO3_en_exceso_75C = masa_inicial_KNO3_75C - masa_inicial_KNO3_75C\n",
        "masa_cristalizará_25C = KNO3_en_exceso_75C\n",
        "\n",
        "print(\"La masa de KNO3 que cristalizará al enfriar a 25°C es: {:.2f} g\".format(masa_cristalizará_25C))"
      ],
      "metadata": {
        "id": "igFhvdfystIj"
      },
      "execution_count": null,
      "outputs": []
    }
  ],
  "metadata": {
    "colab": {
      "name": "Te damos la bienvenida a Colaboratory",
      "toc_visible": true,
      "provenance": [],
      "include_colab_link": true
    },
    "kernelspec": {
      "display_name": "Python 3",
      "name": "python3"
    }
  },
  "nbformat": 4,
  "nbformat_minor": 0
}