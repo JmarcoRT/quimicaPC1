{
  "nbformat": 4,
  "nbformat_minor": 0,
  "metadata": {
    "colab": {
      "provenance": [],
      "include_colab_link": true
    },
    "kernelspec": {
      "name": "python3",
      "display_name": "Python 3"
    },
    "language_info": {
      "name": "python"
    },
    "widgets": {
      "application/vnd.jupyter.widget-state+json": {
        "768a030a48b448d184b7ec73f9938b9c": {
          "model_module": "faerun-notebook",
          "model_name": "SmilesDrawerModel",
          "model_module_version": "^0.1.5",
          "state": {
            "_dom_classes": [],
            "_model_module": "faerun-notebook",
            "_model_module_version": "^0.1.5",
            "_model_name": "SmilesDrawerModel",
            "_view_count": null,
            "_view_module": "faerun-notebook",
            "_view_module_version": "^0.1.5",
            "_view_name": "SmilesDrawerView",
            "background": "#1e1e1e",
            "border": true,
            "layout": "IPY_MODEL_67a510871a93471ca5fb2b3d5bf44297",
            "options": {
              "scale": 1.25
            },
            "output": "svg",
            "theme": "dark",
            "value": [
              [
                "Rxn",
                "C(C1C(C(C(C(O1)O)O)O)O)O.O=O>>C(=O)=O.O"
              ]
            ]
          }
        },
        "67a510871a93471ca5fb2b3d5bf44297": {
          "model_module": "@jupyter-widgets/base",
          "model_name": "LayoutModel",
          "model_module_version": "1.2.0",
          "state": {
            "_model_module": "@jupyter-widgets/base",
            "_model_module_version": "1.2.0",
            "_model_name": "LayoutModel",
            "_view_count": null,
            "_view_module": "@jupyter-widgets/base",
            "_view_module_version": "1.2.0",
            "_view_name": "LayoutView",
            "align_content": null,
            "align_items": null,
            "align_self": null,
            "border": null,
            "bottom": null,
            "display": null,
            "flex": null,
            "flex_flow": null,
            "grid_area": null,
            "grid_auto_columns": null,
            "grid_auto_flow": null,
            "grid_auto_rows": null,
            "grid_column": null,
            "grid_gap": null,
            "grid_row": null,
            "grid_template_areas": null,
            "grid_template_columns": null,
            "grid_template_rows": null,
            "height": null,
            "justify_content": null,
            "justify_items": null,
            "left": null,
            "margin": null,
            "max_height": null,
            "max_width": null,
            "min_height": null,
            "min_width": null,
            "object_fit": null,
            "object_position": null,
            "order": null,
            "overflow": null,
            "overflow_x": null,
            "overflow_y": null,
            "padding": null,
            "right": null,
            "top": null,
            "visibility": null,
            "width": null
          }
        }
      }
    }
  },
  "cells": [
    {
      "cell_type": "markdown",
      "metadata": {
        "id": "view-in-github",
        "colab_type": "text"
      },
      "source": [
        "<a href=\"https://colab.research.google.com/github/JmarcoRT/quimicaPC1/blob/main/PC1_Alu_RosalesTrinidad.ipynb\" target=\"_parent\"><img src=\"https://colab.research.google.com/assets/colab-badge.svg\" alt=\"Open In Colab\"/></a>"
      ]
    },
    {
      "cell_type": "markdown",
      "source": [
        "$$\\Large \\textit{UNMSM | Química}$$\n",
        "$$\\large \\textbf{PC Nº1 | Materia y clasificación}$$\n",
        "\n",
        "_Profesor: Jesus Alvarado Huayhuaz_"
      ],
      "metadata": {
        "id": "sDJAjbaQOj4x"
      }
    },
    {
      "cell_type": "markdown",
      "source": [
        "Todas las indicaciones para la presentación de la práctica son explicadas en clase y brindadas en el material de enunciado de preguntas en formato PDF."
      ],
      "metadata": {
        "id": "_DsTzWLoP7Fy"
      }
    },
    {
      "cell_type": "markdown",
      "source": [
        "## Pregunta 1: Sobre el ABC de python (4 puntos)"
      ],
      "metadata": {
        "id": "obD7c2igOD6t"
      }
    },
    {
      "cell_type": "markdown",
      "source": [
        "Durante la semana de revisión del material \"ABC de python\", reflexiona sobre qué conceptos aprendiste con claridad y cuáles consideras los más desafiantes. A continuación resuelve los siguiente ejercicios, puedes ayudarte del material en http://bit.ly/3YKICSZ."
      ],
      "metadata": {
        "id": "emt93S7dL7QH"
      }
    },
    {
      "cell_type": "code",
      "source": [
        "# Imprime la versión de python que usas y las palabras reservadas de python para esa versión."
      ],
      "metadata": {
        "id": "6mJvqMN0LTU8"
      },
      "execution_count": null,
      "outputs": []
    },
    {
      "cell_type": "code",
      "source": [
        "import sys\n",
        "print(\"Versión de Python:\", sys.version)"
      ],
      "metadata": {
        "id": "fdx1caTuHhLD",
        "outputId": "229951ea-6e60-4457-907d-fb01e5478d48",
        "colab": {
          "base_uri": "https://localhost:8080/"
        }
      },
      "execution_count": 7,
      "outputs": [
        {
          "output_type": "stream",
          "name": "stdout",
          "text": [
            "Versión de Python: 3.10.12 (main, Jun 11 2023, 05:26:28) [GCC 11.4.0]\n"
          ]
        }
      ]
    },
    {
      "cell_type": "code",
      "source": [
        "# Crea una matriz de 3x3 e imprime la suma de los elementos en su diagonal (traza)."
      ],
      "metadata": {
        "id": "MxDzGypdLTXh"
      },
      "execution_count": null,
      "outputs": []
    },
    {
      "cell_type": "code",
      "source": [
        "matriz = [\n",
        "    [5, 2, 4],\n",
        "    [4, 3, 6],\n",
        "    [2, 8, 1]\n",
        "]\n",
        "suma_diagonal = sum(matriz[i][i] for i in range(len(matriz)))\n",
        "\n",
        "print(\"Suma de la diagonal:\", suma_diagonal)"
      ],
      "metadata": {
        "id": "pcVUh9_JLacQ",
        "outputId": "bb53ed8c-e8e3-4521-b8d6-d537462c427d",
        "colab": {
          "base_uri": "https://localhost:8080/"
        }
      },
      "execution_count": 10,
      "outputs": [
        {
          "output_type": "stream",
          "name": "stdout",
          "text": [
            "Suma de la diagonal: 9\n"
          ]
        }
      ]
    },
    {
      "cell_type": "code",
      "source": [
        "# Guarda como variable la masa atómica de los elementos C, H y O, e imprime la masa molecular del etanol."
      ],
      "metadata": {
        "id": "MyhNX7JmLTSe"
      },
      "execution_count": null,
      "outputs": []
    },
    {
      "cell_type": "code",
      "source": [
        "C = 12\n",
        "H = 1\n",
        "O = 16\n",
        "masaMole_etanol = 2*C + 6*H + 1*O\n",
        "print(\"masa molecular del etanol es: \",masaMole_etanol)"
      ],
      "metadata": {
        "id": "QMpS_ReSNkBR",
        "outputId": "9a150f02-5cd4-4573-dead-bccf304ccd2f",
        "colab": {
          "base_uri": "https://localhost:8080/"
        }
      },
      "execution_count": 11,
      "outputs": [
        {
          "output_type": "stream",
          "name": "stdout",
          "text": [
            "masa molecular del etanol es:  46\n"
          ]
        }
      ]
    },
    {
      "cell_type": "code",
      "source": [
        "# Busca la temperatura de fusión en Celsius de 5 metales y guárdalos en una lista. Imprime las temperaturas en Kelvin"
      ],
      "metadata": {
        "id": "NCOnJ0FwgLLc"
      },
      "execution_count": null,
      "outputs": []
    },
    {
      "cell_type": "code",
      "source": [
        "metales_list = [962, 1064, 232, 1538, 3422]\n",
        "\n",
        "print(\"plata =\", metales_list[0] + 273.15, \"K\")\n",
        "print(\"oro =\", metales_list[1] + 273.15, \"K\")\n",
        "print(\"estaño =\", metales_list[2] + 273.15, \"K\")\n",
        "print(\"hierro =\", metales_list[3] + 273.15, \"K\")\n",
        "print(\"tungsteno =\", metales_list[4] + 273.15, \"K\")\n",
        "\n",
        "\n"
      ],
      "metadata": {
        "id": "XPzSnMBUOg39",
        "outputId": "21a78636-9c55-41c5-d422-765746ff0d10",
        "colab": {
          "base_uri": "https://localhost:8080/"
        }
      },
      "execution_count": 12,
      "outputs": [
        {
          "output_type": "stream",
          "name": "stdout",
          "text": [
            "plata = 1235.15 K\n",
            "oro = 1337.15 K\n",
            "estaño = 505.15 K\n",
            "hierro = 1811.15 K\n",
            "tungsteno = 3695.15 K\n"
          ]
        }
      ]
    },
    {
      "cell_type": "markdown",
      "source": [
        "## Pregunta 2: Operaciones (4 puntos)"
      ],
      "metadata": {
        "id": "epzOadagLfPi"
      }
    },
    {
      "cell_type": "markdown",
      "source": [
        "Escribe un programa que lea repetidamente elementos químicos en español hasta que el usuario introduzca “fin”. Una vez se haya introducido “fin”, muestra por pantalla (o sea imprime) el total de elementos ingresados. Si el usuario introduce cualquier otra cosa que no sea un elemento químico, detecta su fallo usando try y except, muestra un mensaje de error y pasa al siguiente elemento."
      ],
      "metadata": {
        "id": "MbAEOGPsjOWZ"
      }
    },
    {
      "cell_type": "code",
      "source": [
        "!pip install unidecode\n",
        "\n"
      ],
      "metadata": {
        "id": "HTwlobbm6J-0",
        "colab": {
          "base_uri": "https://localhost:8080/"
        },
        "outputId": "ae00bec5-7fd2-45ab-bbf9-2470c841ef70"
      },
      "execution_count": 14,
      "outputs": [
        {
          "output_type": "stream",
          "name": "stdout",
          "text": [
            "Collecting unidecode\n",
            "  Downloading Unidecode-1.3.6-py3-none-any.whl (235 kB)\n",
            "\u001b[?25l     \u001b[90m━━━━━━━━━━━━━━━━━━━━━━━━━━━━━━━━━━━━━━━━\u001b[0m \u001b[32m0.0/235.9 kB\u001b[0m \u001b[31m?\u001b[0m eta \u001b[36m-:--:--\u001b[0m\r\u001b[2K     \u001b[91m━━━━━━━━━━\u001b[0m\u001b[90m╺\u001b[0m\u001b[90m━━━━━━━━━━━━━━━━━━━━━━━━━━━━━\u001b[0m \u001b[32m61.4/235.9 kB\u001b[0m \u001b[31m1.9 MB/s\u001b[0m eta \u001b[36m0:00:01\u001b[0m\r\u001b[2K     \u001b[90m━━━━━━━━━━━━━━━━━━━━━━━━━━━━━━━━━━━━━━━\u001b[0m \u001b[32m235.9/235.9 kB\u001b[0m \u001b[31m4.1 MB/s\u001b[0m eta \u001b[36m0:00:00\u001b[0m\n",
            "\u001b[?25hInstalling collected packages: unidecode\n",
            "Successfully installed unidecode-1.3.6\n"
          ]
        }
      ]
    },
    {
      "cell_type": "code",
      "source": [
        "from unidecode import unidecode\n",
        "elementos_quimicos = [\n",
        "    \"hidrogeno\", \"helio\", \"litio\", \"berilio\", \"boro\", \"carbono\", \"nitrogeno\", \"oxigeno\",\n",
        "    \"fluor\", \"neon\", \"sodio\", \"magnesio\", \"aluminio\", \"silicio\", \"fosforo\", \"azufre\",\n",
        "    \"cloro\", \"argon\", \"potasio\", \"calcio\"]\n",
        "def es_elemento_quimico(elemento):\n",
        "      return unidecode(elemento.lower()) in elementos_quimicos\n",
        "total_elementos = 0\n",
        "while True:\n",
        "      elemento = input(\"Introduce un elemento químico en español (o 'fin' para terminar): \")\n",
        "      if elemento.lower() == 'fin':\n",
        "        break\n",
        "      try:\n",
        "        if es_elemento_quimico(elemento):\n",
        "            total_elementos += 1\n",
        "            print(\"Elemento válido.\")\n",
        "        else:\n",
        "            print(\"Elemento no válido.\")\n",
        "      except KeyboardInterrupt:\n",
        "        print(\"\\nPrograma interrumpido por el usuario.\")\n",
        "        break\n",
        "      except:\n",
        "        print(\"Error desconocido.\")"
      ],
      "metadata": {
        "id": "bzzGx0QE-g7W",
        "colab": {
          "base_uri": "https://localhost:8080/"
        },
        "outputId": "be97b556-d8d3-4671-f235-007d8d908164"
      },
      "execution_count": 15,
      "outputs": [
        {
          "name": "stdout",
          "output_type": "stream",
          "text": [
            "Introduce un elemento químico en español (o 'fin' para terminar): cloro\n",
            "Elemento válido.\n",
            "Introduce un elemento químico en español (o 'fin' para terminar): fin\n"
          ]
        }
      ]
    },
    {
      "cell_type": "markdown",
      "source": [
        "# Pregunta 3: Conservación de la masa (4 puntos)"
      ],
      "metadata": {
        "id": "8gxSHpD3LZsh"
      }
    },
    {
      "cell_type": "markdown",
      "source": [
        "### Código necesario para generar la imagen"
      ],
      "metadata": {
        "id": "mMV9c3hDl7KL"
      }
    },
    {
      "cell_type": "code",
      "source": [
        "!pip install faerun-notebook==0.1.5b0\n",
        "\n",
        "import ipywidgets as widgets\n",
        "from faerun_notebook import SmilesDrawer\n",
        "from google.colab import output\n",
        "output.enable_custom_widget_manager()"
      ],
      "metadata": {
        "id": "JgF8Ohtbky65"
      },
      "execution_count": null,
      "outputs": []
    },
    {
      "cell_type": "markdown",
      "source": [
        "### Reacción química"
      ],
      "metadata": {
        "id": "5sLC10D_oSrV"
      }
    },
    {
      "cell_type": "markdown",
      "source": [
        "Demuestra cómo se cumple la conservación de la masa en la siguiente reacción química. Sugerencia: hacer un balance estequiométrico y luego emplear la masa molecular de reactivos y productos."
      ],
      "metadata": {
        "id": "OVRhAzaVmD86"
      }
    },
    {
      "cell_type": "code",
      "source": [
        "SmilesDrawer(value=[(\"Rxn\", \"C(C1C(C(C(C(O1)O)O)O)O)O.O=O>>C(=O)=O.O\")], theme='dark', background=\"#1e1e1e\", options={'scale': 1.25})\n",
        "\n"
      ],
      "metadata": {
        "colab": {
          "base_uri": "https://localhost:8080/",
          "height": 289,
          "referenced_widgets": [
            "768a030a48b448d184b7ec73f9938b9c",
            "67a510871a93471ca5fb2b3d5bf44297"
          ]
        },
        "id": "CC0mAXWmnYyN",
        "outputId": "bc6677d6-de77-44c2-8e52-3ee83d72d82f"
      },
      "execution_count": null,
      "outputs": [
        {
          "output_type": "display_data",
          "data": {
            "text/plain": [
              "SmilesDrawer(background='#1e1e1e', options={'scale': 1.25}, theme='dark', value=[('Rxn', 'C(C1C(C(C(C(O1)O)O)O…"
            ],
            "application/vnd.jupyter.widget-view+json": {
              "version_major": 2,
              "version_minor": 0,
              "model_id": "768a030a48b448d184b7ec73f9938b9c"
            }
          },
          "metadata": {
            "application/vnd.jupyter.widget-view+json": {
              "colab": {
                "custom_widget_manager": {
                  "url": "https://ssl.gstatic.com/colaboratory-static/widgets/colab-cdn-widget-manager/b3e629b1971e1542/manager.min.js"
                }
              }
            }
          }
        }
      ]
    },
    {
      "cell_type": "code",
      "source": [
        "!pip install rdkit"
      ],
      "metadata": {
        "colab": {
          "base_uri": "https://localhost:8080/"
        },
        "id": "96tZ4Pk00Z7f",
        "outputId": "c6c3d7af-4f3f-424a-d99f-7cf5ee2c857f"
      },
      "execution_count": 19,
      "outputs": [
        {
          "output_type": "stream",
          "name": "stdout",
          "text": [
            "Collecting rdkit\n",
            "  Downloading rdkit-2023.3.3-cp310-cp310-manylinux_2_17_x86_64.manylinux2014_x86_64.whl (29.7 MB)\n",
            "\u001b[2K     \u001b[90m━━━━━━━━━━━━━━━━━━━━━━━━━━━━━━━━━━━━━━━━\u001b[0m \u001b[32m29.7/29.7 MB\u001b[0m \u001b[31m39.5 MB/s\u001b[0m eta \u001b[36m0:00:00\u001b[0m\n",
            "\u001b[?25hRequirement already satisfied: numpy in /usr/local/lib/python3.10/dist-packages (from rdkit) (1.23.5)\n",
            "Requirement already satisfied: Pillow in /usr/local/lib/python3.10/dist-packages (from rdkit) (9.4.0)\n",
            "Installing collected packages: rdkit\n",
            "Successfully installed rdkit-2023.3.3\n"
          ]
        }
      ]
    },
    {
      "cell_type": "code",
      "source": [
        "#balanceo estequiométrico\n",
        "COEF_R1 = 1\n",
        "COEF_R2 = 6\n",
        "COEF_P1 = 6\n",
        "COEF_P2 = 6\n",
        "\n",
        "from rdkit import Chem\n",
        "from rdkit. Chem import Draw\n",
        "\n",
        "from rdkit.Chem import Descriptors\n",
        "r1 = Descriptors.MolWt(Chem.MolFromSmiles(\"C(C1C(C(C(C(O1)O)O)O)O)O\"))\n",
        "r2 = Descriptors.MolWt(Chem.MolFromSmiles(\"O=O\"))\n",
        "p1 = Descriptors.MolWt(Chem.MolFromSmiles(\"O=C=O\"))\n",
        "p2 = Descriptors.MolWt(Chem.MolFromSmiles(\"O\"))\n",
        "\n",
        "masa_total_reactivos = (COEF_R1 * round(r1, 0)) + (COEF_R2 * round(r2, 0))\n",
        "masa_total_productos = (COEF_P1 * round(p1, 0)) + (COEF_P2 * round(p2, 0))\n",
        "\n",
        "if masa_total_reactivos == masa_total_productos:\n",
        "    print(\"La conservación de la masa se cumple en la reacción.\")\n",
        "else:\n",
        "    print(\"La conservación de la masa NO se cumple en la reacción.\")\n",
        "\n"
      ],
      "metadata": {
        "id": "WOyk-VafB3gl",
        "outputId": "cd5797ad-eb1c-4617-e59f-d2cb1985792b",
        "colab": {
          "base_uri": "https://localhost:8080/"
        }
      },
      "execution_count": 20,
      "outputs": [
        {
          "output_type": "stream",
          "name": "stdout",
          "text": [
            "La conservación de la masa se cumple en la reacción.\n"
          ]
        }
      ]
    },
    {
      "cell_type": "markdown",
      "source": [
        "## Pregunta 4: Notación científica (4 puntos)"
      ],
      "metadata": {
        "id": "Rh-nAUiKhJNB"
      }
    },
    {
      "cell_type": "markdown",
      "source": [
        "Imprime las siguientes operaciones según la notación científica:\n",
        "\n",
        "(1) $1.321 \\times 10^{-4} + 8.5 \\times 10^{-2}$\n",
        "\n",
        "(2) $1.71 \\times 10^{3} - 2.01 \\times 10^{2}\\$\n",
        "\n",
        "(3) $(7.4 \\times 10^5)(7.2 \\times 10^4)$\n",
        "\n",
        "(4) $(7.4 \\times 10^5)/(7.2 \\times 10^4)$"
      ],
      "metadata": {
        "id": "NIkI45Xdqqnt"
      }
    },
    {
      "cell_type": "code",
      "source": [
        "\n",
        "n1 = 1.321*(10**-4) + 8.5*(10**-2)\n",
        "n1 = \"{:.1e}\".format(n1)\n",
        "n1 = n1.replace(\"e+\", \"*10^\")\n",
        "n1 = n1.replace(\"e-\", \"*10^-\")\n",
        "print(n1)\n",
        "\n",
        "n2 = 1.71*(10**3) - 2.01*(10**2)\n",
        "n2 = \"{:.2e}\".format(n2)\n",
        "n2 = n2.replace(\"e+\", \"*10^\")\n",
        "n2 = n2.replace(\"e-\", \"*10^-\")\n",
        "print(n2)\n",
        "\n",
        "n3 = (7.4*(10**5))*(7.2*(10**4))\n",
        "n3 = \"{:.1e}\".format(n3)\n",
        "n3 = n3.replace(\"e+\", \"*10^\")\n",
        "n3 = n3.replace(\"e-\", \"*10^-\")\n",
        "print(n3)\n",
        "\n",
        "n4 = (7.4*(10**5))/(7.2*(10**4))\n",
        "n4 = \"{:.1e}\".format(n4)\n",
        "n4 = n4.replace(\"e+\", \"*10^\")\n",
        "n4 = n4.replace(\"e-\", \"*10^-\")\n",
        "print(n4)"
      ],
      "metadata": {
        "id": "YNgmwcRv4vwI",
        "outputId": "02af1478-2c68-4913-c088-d9f5e9eebd4a",
        "colab": {
          "base_uri": "https://localhost:8080/"
        }
      },
      "execution_count": 21,
      "outputs": [
        {
          "output_type": "stream",
          "name": "stdout",
          "text": [
            "8.5*10^-02\n",
            "1.51*10^03\n",
            "5.3*10^10\n",
            "1.0*10^01\n"
          ]
        }
      ]
    },
    {
      "cell_type": "markdown",
      "source": [
        "## Pregunta 5: Método científico (4 puntos)"
      ],
      "metadata": {
        "id": "CuzCcXJghR14"
      }
    },
    {
      "cell_type": "markdown",
      "source": [
        "Artículo: https://bit.ly/3surZ1W\n",
        "Leer el siguiente artículo y explica cómo es aplicado el método científico. Emplea como máximo 300 palabras."
      ],
      "metadata": {
        "id": "WngRSR-Rhmx1"
      }
    },
    {
      "cell_type": "markdown",
      "source": [
        "En el artículo, el primer paso del método científico fue la observación de los videos que mostraban la supuesta levitación del LK-99 sobre un imán. Los investigadores notaron que el comportamiento del material no era consistente con el de un superconductor. Esto llevó a la formulación de una hipótesis de que el LK-99 no era un superconductor, sino que exhibía propiedades de ferromagnetismo.\n",
        "Para probar esta hipótesis, se realizaron experimentos utilizando materiales ferromagnéticos similares al LK-99. Se construyó un disco de limaduras de hierro pegadas a virutas de grafito comprimido, que imitaba el comportamiento del LK-99 en los videos. Este experimento demostró que el comportamiento observado en el LK-99 no era exclusivo de los superconductores, sino que también podía ser explicado por el ferromagnetismo.\n",
        "Los experimentos concluyeron que el LK-99 no era un superconductor, sino un aislante con propiedades de ferromagnetismo y diamagnetismo."
      ],
      "metadata": {
        "id": "h2URgfO7NvuM"
      }
    }
  ]
}